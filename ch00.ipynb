{
  "cells": [
    {
      "cell_type": "markdown",
      "metadata": {
        "id": "NCRonFlIzGtW"
      },
      "source": [
        "# <p style=\"font-family: Arial; font-size:1.4em;color:gold;\"> Jupyter Notebook </p>\n",
        "<img src=\"https://miro.medium.com/v2/resize:fit:1400/1*RzxZF0mmXAsMLrIzAWYDSg.png\" alt=\"Drawing\" style=\"width: 400px;\"/>"
      ]
    },
    {
      "cell_type": "markdown",
      "metadata": {
        "id": "v2y9f6EWzGtX"
      },
      "source": [
        "# Task 1. Complete the following code and run it.\n"
      ]
    },
    {
      "cell_type": "markdown",
      "metadata": {
        "id": "-z7rPB7pzGtX"
      },
      "source": [
        "### Please run the below code by clicking the small \"play\" button on the left of the cell"
      ]
    },
    {
      "cell_type": "code",
      "execution_count": 1,
      "metadata": {
        "colab": {
          "base_uri": "https://localhost:8080/"
        },
        "id": "OZ4vaBKazGtY",
        "outputId": "abcf47b9-19cf-49c1-a5a4-bd23686584c2"
      },
      "outputs": [
        {
          "output_type": "stream",
          "name": "stdout",
          "text": [
            "Hello Wolrd\n"
          ]
        }
      ],
      "source": [
        "print ('Hello Wolrd')"
      ]
    },
    {
      "cell_type": "markdown",
      "metadata": {
        "id": "HieJK50OzGtZ"
      },
      "source": [
        "### SAVE this file(ctrl-s) At this moment"
      ]
    },
    {
      "cell_type": "markdown",
      "metadata": {
        "id": "UQRUpcFbzGtZ"
      },
      "source": [
        "# Task 2. Complete the following instructions"
      ]
    },
    {
      "cell_type": "code",
      "source": [
        "print ('Hello World')"
      ],
      "metadata": {
        "colab": {
          "base_uri": "https://localhost:8080/"
        },
        "id": "RsG3Msw5zRll",
        "outputId": "fb704df9-416b-4571-969b-b6afff1cb1b8"
      },
      "execution_count": 3,
      "outputs": [
        {
          "output_type": "stream",
          "name": "stdout",
          "text": [
            "Hello World\n"
          ]
        }
      ]
    },
    {
      "cell_type": "markdown",
      "metadata": {
        "id": "3rzXQaWKzGtZ"
      },
      "source": [
        "### Press \"ESC\"\n",
        "### Create a \"Code Cell\" by typing \"b\"\n",
        "### Make the same code to print \"Hello World\"\n",
        "### Run it\n",
        "### Try to move the cell by \"alt - up / down\" in VS Code or \"Ctrl-M J/K\" in Google Colab"
      ]
    },
    {
      "cell_type": "markdown",
      "metadata": {
        "id": "NwUoY4MozGtZ"
      },
      "source": [
        "### SAVE this file(ctrl-s) At this moment"
      ]
    },
    {
      "cell_type": "markdown",
      "metadata": {
        "id": "bLPKJ1_mzGtZ"
      },
      "source": [
        "\n",
        "# Task 3\n",
        "### Create a \"Markdown Cell\"\n",
        "### Add a image in your \"Markdown Cell\" (Refer to the 1st Cell in this notebook file)"
      ]
    },
    {
      "cell_type": "markdown",
      "source": [
        "![Alt text](https://miro.medium.com/v2/resize:fit:1400/1*RzxZF0mmXAsMLrIzAWYDSg.png)"
      ],
      "metadata": {
        "id": "JSklqDTA01Yl"
      }
    },
    {
      "cell_type": "markdown",
      "metadata": {
        "id": "G7dM41iTzGtZ"
      },
      "source": [
        "### SAVE this file(ctrl-s) At this moment"
      ]
    },
    {
      "cell_type": "markdown",
      "metadata": {
        "id": "iTBZlTS5zGtZ"
      },
      "source": [
        "### Make sure that you should have \"SAVE\" this file at least 3 times.\n",
        "### \"SAVE(ctrl-s)\" will make a snapshot in the Revision History"
      ]
    }
  ],
  "metadata": {
    "kernelspec": {
      "display_name": "base",
      "language": "python",
      "name": "python3"
    },
    "language_info": {
      "codemirror_mode": {
        "name": "ipython",
        "version": 3
      },
      "file_extension": ".py",
      "mimetype": "text/x-python",
      "name": "python",
      "nbconvert_exporter": "python",
      "pygments_lexer": "ipython3",
      "version": "3.9.17"
    },
    "colab": {
      "provenance": []
    }
  },
  "nbformat": 4,
  "nbformat_minor": 0
}